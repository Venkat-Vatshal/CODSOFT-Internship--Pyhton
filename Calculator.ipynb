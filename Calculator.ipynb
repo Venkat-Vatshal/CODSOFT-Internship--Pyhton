{
  "nbformat": 4,
  "nbformat_minor": 0,
  "metadata": {
    "colab": {
      "provenance": []
    },
    "kernelspec": {
      "name": "python3",
      "display_name": "Python 3"
    },
    "language_info": {
      "name": "python"
    }
  },
  "cells": [
    {
      "cell_type": "code",
      "execution_count": null,
      "metadata": {
        "colab": {
          "base_uri": "https://localhost:8080/"
        },
        "id": "C0O1Y_8iY9W0",
        "outputId": "4caadd2f-8f59-4374-f859-456449d1a8e0"
      },
      "outputs": [
        {
          "name": "stdout",
          "output_type": "stream",
          "text": [
            "Operations:\n",
            "1.Add\n",
            "2.Subtract\n",
            "3.Multiply\n",
            "4.Divide\n",
            "5.Power\n",
            "6.Remainder\n",
            "Enter choice (1/2/3/4/5/6): 6\n",
            "Enter first number: 12\n",
            "Enter second number: 9\n",
            "Remainder of 12.0/9.0 is: 3.0\n",
            "Do you want to perform another calculation? (yes/no): yes\n",
            "Enter choice (1/2/3/4/5/6): 3\n",
            "Enter first number: 46\n",
            "Enter second number: 19\n",
            "46.0*19.0= 874.0\n",
            "Do you want to perform another calculation? (yes/no): no\n"
          ]
        }
      ],
      "source": [
        "\n",
        "def add(x,y):\n",
        "    return x+y\n",
        "\n",
        "\n",
        "def difference(x,y):\n",
        "    return x-y\n",
        "\n",
        "\n",
        "def product(x,y):\n",
        "    return x*y\n",
        "\n",
        "def divide(x,y):\n",
        "    if y == 0:\n",
        "        return \"Invaliud inpt\"\n",
        "    else:\n",
        "        return x/y\n",
        "\n",
        "def power(x,y):\n",
        "    return x**y\n",
        "\n",
        "def remain(x,y):\n",
        "    return x%y\n",
        "\n",
        "\n",
        "print(\"Operations:\")\n",
        "print(\"1.Add\")\n",
        "print(\"2.Subtract\")\n",
        "print(\"3.Multiply\")\n",
        "print(\"4.Divide\")\n",
        "print(\"5.Power\")\n",
        "print(\"6.Remainder\")\n",
        "\n",
        "while True:\n",
        "    choice = input(\"Enter choice (1/2/3/4/5/6): \")\n",
        "\n",
        "    if choice in ('1', '2', '3', '4','5','6'):\n",
        "        num1 = float(input(\"Enter first number: \"))\n",
        "        num2 = float(input(\"Enter second number: \"))\n",
        "\n",
        "        if choice == '1':\n",
        "            print(f\"{num1}+{num2}=\", add(num1, num2))\n",
        "\n",
        "        elif choice == '2':\n",
        "            print(f\"{num1}-{num2}=\", difference(num1, num2))\n",
        "\n",
        "        elif choice == '3':\n",
        "            print(f\"{num1}*{num2}=\", product(num1, num2))\n",
        "\n",
        "        elif choice == '4':\n",
        "            print(f\"{num1}/{num2}=\", divide(num1, num2))\n",
        "\n",
        "        elif choice == '5':\n",
        "            print(f\"{num1}^{num2}=\",power(num1,num2))\n",
        "\n",
        "        elif choice == '6':\n",
        "            print(f\"Remainder of {num1}/{num2} is:\",remain(num1,num2))\n",
        "    else:\n",
        "        print(\"Invalid Input\")\n",
        "\n",
        "    next_calculation = input(\"Do you want to perform another calculation? (yes/no): \")\n",
        "    if next_calculation.lower() != 'yes':\n",
        "        break\n"
      ]
    },
    {
      "cell_type": "code",
      "source": [],
      "metadata": {
        "id": "zhCBHgrHZupy"
      },
      "execution_count": null,
      "outputs": []
    }
  ]
}