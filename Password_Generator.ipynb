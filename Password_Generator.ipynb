{
  "nbformat": 4,
  "nbformat_minor": 0,
  "metadata": {
    "colab": {
      "provenance": []
    },
    "kernelspec": {
      "name": "python3",
      "display_name": "Python 3"
    },
    "language_info": {
      "name": "python"
    }
  },
  "cells": [
    {
      "cell_type": "code",
      "execution_count": null,
      "metadata": {
        "colab": {
          "base_uri": "https://localhost:8080/"
        },
        "id": "6unQ4-edfMTz",
        "outputId": "f79e66b1-651d-41ca-818b-2ed062dde9bd"
      },
      "outputs": [
        {
          "output_type": "stream",
          "name": "stdout",
          "text": [
            "Enter the length of characters required for your passcode:15\n",
            "How many passcodes do you need?:6\n",
            "password[1]: (820AJH=$mTEpwd\n",
            "password[2]: k!@E-q6XWhygoA,\n",
            "password[3]: w_/PW@2fYkIze8)\n",
            "password[4]: &Hv>LIN.q=Tlfw7\n",
            "password[5]: SwQMu+1Zf=gXEmN\n",
            "password[6]: pk$)lETyX%UbOB/\n"
          ]
        }
      ],
      "source": [
        "import random\n",
        "\n",
        "upper_case=\"ABCDEFGHIJKLMNOPQRSTUVWXYZ\"\n",
        "lower_case= upper_case.lower()\n",
        "digits = \"0123456789\"\n",
        "symbols = \"!@$%^&*(-_+=)//|<>,.?~`\"\n",
        "\n",
        "up,lw,dg,sym = True,True,True,True\n",
        "\n",
        "gen = \"\"\n",
        "\n",
        "if up:\n",
        "  gen+=upper_case\n",
        "\n",
        "if lw:\n",
        "  gen+=lower_case\n",
        "\n",
        "if dg:\n",
        "  gen+=digits\n",
        "\n",
        "if sym:\n",
        "  gen+= symbols\n",
        "\n",
        "length = int(input(\"Enter the length of characters required for your passcode:\"))\n",
        "amount = int(input(\"How many passcodes do you need?:\"))\n",
        "\n",
        "for i in range(1,amount+1):\n",
        "   password=\"\".join(random.sample(gen,length))\n",
        "   print(f\"password{[i]}:\",password)"
      ]
    },
    {
      "cell_type": "code",
      "source": [],
      "metadata": {
        "id": "mR78qhm_fqV6"
      },
      "execution_count": null,
      "outputs": []
    }
  ]
}